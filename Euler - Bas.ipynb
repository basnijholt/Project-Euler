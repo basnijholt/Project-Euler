{
 "metadata": {
  "name": "",
  "signature": "sha256:8283243e15de321d3723c6d245fcf5d9f7b8afe2cb6be8213d7855900303aaeb"
 },
 "nbformat": 3,
 "nbformat_minor": 0,
 "worksheets": [
  {
   "cells": [
    {
     "cell_type": "code",
     "collapsed": false,
     "input": [
      "#problem 5\n",
      "step = 20\n",
      "N = step\n",
      "j = 0\n",
      "while j != 2:\n",
      "    N += step\n",
      "    for j in xrange(step,1,-1):\n",
      "        if N%j != 0:\n",
      "            break\n",
      "print N"
     ],
     "language": "python",
     "metadata": {},
     "outputs": [
      {
       "output_type": "stream",
       "stream": "stdout",
       "text": [
        "232792560\n"
       ]
      }
     ],
     "prompt_number": 3
    },
    {
     "cell_type": "code",
     "collapsed": false,
     "input": [
      "# problem 12\n",
      "import math\n",
      "def factors(n):\n",
      "    results = set()\n",
      "    for i in range(1,int(math.sqrt(n))+1):\n",
      "        if n%i == 0:\n",
      "            results.add(i)\n",
      "            results.add(n/i)\n",
      "    return results\n",
      "\n",
      "n = 0\n",
      "i = 0\n",
      "\n",
      "while len(factors(n)) < 501:\n",
      "    i += 1\n",
      "    n += i\n",
      "n"
     ],
     "language": "python",
     "metadata": {},
     "outputs": [
      {
       "metadata": {},
       "output_type": "pyout",
       "prompt_number": 85,
       "text": [
        "76576500"
       ]
      }
     ],
     "prompt_number": 85
    },
    {
     "cell_type": "code",
     "collapsed": false,
     "input": [
      "# Problem 13\n",
      "numbers = open('/Users/basnijholt/Downloads/nummers.txt', 'r')\n",
      "sum = 0\n",
      "for number in numbers:\n",
      "    sum += int(number)\n",
      "str(sum)[:10]"
     ],
     "language": "python",
     "metadata": {},
     "outputs": [
      {
       "ename": "IOError",
       "evalue": "[Errno 2] No such file or directory: '/Users/basnijholt/Downloads/nummers.txt'",
       "output_type": "pyerr",
       "traceback": [
        "\u001b[0;31m---------------------------------------------------------------------------\u001b[0m\n\u001b[0;31mIOError\u001b[0m                                   Traceback (most recent call last)",
        "\u001b[0;32m<ipython-input-63-667d1cab81a1>\u001b[0m in \u001b[0;36m<module>\u001b[0;34m()\u001b[0m\n\u001b[1;32m      1\u001b[0m \u001b[0;31m# Problem 13\u001b[0m\u001b[0;34m\u001b[0m\u001b[0;34m\u001b[0m\u001b[0m\n\u001b[0;32m----> 2\u001b[0;31m \u001b[0mnumbers\u001b[0m \u001b[0;34m=\u001b[0m \u001b[0mopen\u001b[0m\u001b[0;34m(\u001b[0m\u001b[0;34m'/Users/basnijholt/Downloads/nummers.txt'\u001b[0m\u001b[0;34m,\u001b[0m \u001b[0;34m'r'\u001b[0m\u001b[0;34m)\u001b[0m\u001b[0;34m\u001b[0m\u001b[0m\n\u001b[0m\u001b[1;32m      3\u001b[0m \u001b[0msum\u001b[0m \u001b[0;34m=\u001b[0m \u001b[0;36m0\u001b[0m\u001b[0;34m\u001b[0m\u001b[0m\n\u001b[1;32m      4\u001b[0m \u001b[0;32mfor\u001b[0m \u001b[0mnumber\u001b[0m \u001b[0;32min\u001b[0m \u001b[0mnumbers\u001b[0m\u001b[0;34m:\u001b[0m\u001b[0;34m\u001b[0m\u001b[0m\n\u001b[1;32m      5\u001b[0m     \u001b[0msum\u001b[0m \u001b[0;34m+=\u001b[0m \u001b[0mint\u001b[0m\u001b[0;34m(\u001b[0m\u001b[0mnumber\u001b[0m\u001b[0;34m)\u001b[0m\u001b[0;34m\u001b[0m\u001b[0m\n",
        "\u001b[0;31mIOError\u001b[0m: [Errno 2] No such file or directory: '/Users/basnijholt/Downloads/nummers.txt'"
       ]
      }
     ],
     "prompt_number": 63
    },
    {
     "cell_type": "code",
     "collapsed": false,
     "input": [
      "# problem 14 Longest Collatz sequence\n",
      " \n",
      "N = 10\n",
      "i_max = 1\n",
      "for n in range(3,1000000):\n",
      "    n_init = n\n",
      "    i = 1\n",
      "    while n != 1:\n",
      "        if n%2:\n",
      "            n = 3 * n + 1\n",
      "        else:\n",
      "            n /= 2\n",
      "        i += 1\n",
      "    if i >= i_max:\n",
      "        i_max = i\n",
      "        n_max = n_init\n",
      "print n_max, i"
     ],
     "language": "python",
     "metadata": {},
     "outputs": [
      {
       "output_type": "stream",
       "stream": "stdout",
       "text": [
        "837799 259\n"
       ]
      }
     ],
     "prompt_number": 1
    },
    {
     "cell_type": "code",
     "collapsed": false,
     "input": [
      "# problem 16\n",
      "digits = list(str(2**1000))\n",
      "sum = 0\n",
      "for i in digits:\n",
      "    sum += int(i)\n",
      "print sum"
     ],
     "language": "python",
     "metadata": {},
     "outputs": [
      {
       "output_type": "stream",
       "stream": "stdout",
       "text": [
        "1366\n"
       ]
      }
     ],
     "prompt_number": 5
    },
    {
     "cell_type": "code",
     "collapsed": false,
     "input": [
      "# problem 48\n",
      "digits = range(1, 1001)\n",
      "sum = 0\n",
      "for i in digits:\n",
      "    sum += i**i\n",
      "print str(sum)[-10:]"
     ],
     "language": "python",
     "metadata": {},
     "outputs": [
      {
       "output_type": "stream",
       "stream": "stdout",
       "text": [
        "9110846700\n"
       ]
      }
     ],
     "prompt_number": 4
    },
    {
     "cell_type": "code",
     "collapsed": false,
     "input": [
      "# problem 20\n",
      "def fac(N):\n",
      "    tot = 1\n",
      "    for i in range(1,N+1):\n",
      "        tot *= i\n",
      "    return tot\n",
      "digits = str(fac(100))\n",
      "sum = 0\n",
      "for num in digits:\n",
      "    sum += int(num)\n",
      "print sum"
     ],
     "language": "python",
     "metadata": {},
     "outputs": [
      {
       "output_type": "stream",
       "stream": "stdout",
       "text": [
        "648\n"
       ]
      }
     ],
     "prompt_number": 17
    },
    {
     "cell_type": "code",
     "collapsed": false,
     "input": [
      "# problem 25\n",
      "fib = [1, 1]\n",
      "while len(str(fib[-1])) < 1000:\n",
      "    fib.append(fib[-1] + fib[-2])\n",
      "print len(fib)"
     ],
     "language": "python",
     "metadata": {},
     "outputs": [
      {
       "output_type": "stream",
       "stream": "stdout",
       "text": [
        "4782\n"
       ]
      }
     ],
     "prompt_number": 27
    },
    {
     "cell_type": "code",
     "collapsed": false,
     "input": [
      "# problem 19\n",
      "import datetime\n",
      "day = datetime.date(1901,1,1)\n",
      "d = datetime.timedelta(1)\n",
      "tot = 0\n",
      "while day != datetime.date(2000,12,31):\n",
      "    day += d\n",
      "    if day.isoweekday() == 7 and day.day == 1:\n",
      "        tot += 1\n",
      "print tot, 'times'"
     ],
     "language": "python",
     "metadata": {},
     "outputs": [
      {
       "output_type": "stream",
       "stream": "stdout",
       "text": [
        "171 times\n"
       ]
      }
     ],
     "prompt_number": 80
    }
   ],
   "metadata": {}
  }
 ]
}