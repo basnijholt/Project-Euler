{
 "metadata": {
  "name": "",
  "signature": "sha256:f47d8286942f953698bea59988bccb21a4b7dbc5c94bd25e514d525e524cf83a"
 },
 "nbformat": 3,
 "nbformat_minor": 0,
 "worksheets": [
  {
   "cells": [
    {
     "cell_type": "markdown",
     "metadata": {},
     "source": [
      "## Problem 1\n",
      "Find the sum of all the multiples of 3 and 5 below 1000"
     ]
    },
    {
     "cell_type": "code",
     "collapsed": false,
     "input": [
      "research_number = int(raw_input('Type the number you would like to research: '))\n",
      "multiple_1 = int(raw_input('Type the first multiple: '))\n",
      "multiple_2 = int(raw_input('Type the second multiple: '))\n",
      "\n",
      "list_1 = range(1, research_number)\n",
      "list_2 = range(1, research_number)\n",
      "\n",
      "multiples_in_rn = []\n",
      "\n",
      "for number_1 in list_1:\n",
      "    if number_1%multiple_1 == 0:\n",
      "        multiples_in_rn.append(number_1)\n",
      "\n",
      "for number_2 in list_2:\n",
      "    if number_2%multiple_2 == 0 and number_2%multiple_1 != 0:\n",
      "        multiples_in_rn.append(number_2)\n",
      "        \n",
      "print 'The sum of all the multiples is: ', sum(multiples_in_rn)"
     ],
     "language": "python",
     "metadata": {},
     "outputs": [
      {
       "name": "stdout",
       "output_type": "stream",
       "stream": "stdout",
       "text": [
        "Type the number you would like to research: 1000\n"
       ]
      },
      {
       "name": "stdout",
       "output_type": "stream",
       "stream": "stdout",
       "text": [
        "Type the first multiple: 3\n"
       ]
      },
      {
       "name": "stdout",
       "output_type": "stream",
       "stream": "stdout",
       "text": [
        "Type the second multiple: 5\n"
       ]
      },
      {
       "output_type": "stream",
       "stream": "stdout",
       "text": [
        "The sum of all the multiples is:  233168\n"
       ]
      }
     ],
     "prompt_number": 28
    },
    {
     "cell_type": "markdown",
     "metadata": {},
     "source": [
      "## Problem 2\n",
      "Find the sum of the values of the even Fibonacci sequence that starts with 1 and 2 below four million."
     ]
    },
    {
     "cell_type": "code",
     "collapsed": false,
     "input": [
      "Start_Fibonacci = [1,2]\n",
      "numbers = range(1,500)\n",
      "\n",
      "even_Fibonacci = []\n",
      "\n",
      "for c in numbers:\n",
      "    if Start_Fibonacci[-1] > 4e6:\n",
      "        break\n",
      "    else:\n",
      "        b = Start_Fibonacci[c-1] + Start_Fibonacci[c]\n",
      "        Start_Fibonacci.append(b)\n",
      "\n",
      "for all_fib in Start_Fibonacci:\n",
      "    if all_fib%2 == 0:\n",
      "        even_Fibonacci.append(all_fib)\n",
      "\n",
      "print even_Fibonacci\n",
      "\n",
      "print 'The sum of the values of the even Fibonacci sequence that starts with 1 and 2 below four million is: ', sum(even_Fibonacci)\n",
      "    \n",
      "    \n"
     ],
     "language": "python",
     "metadata": {},
     "outputs": [
      {
       "output_type": "stream",
       "stream": "stdout",
       "text": [
        "[2, 8, 34, 144, 610, 2584, 10946, 46368, 196418, 832040, 3524578]\n",
        "The sum of the values of the even Fibonacci sequence that starts with 1 and 2 below four million is:  4613732\n"
       ]
      }
     ],
     "prompt_number": 42
    },
    {
     "cell_type": "markdown",
     "metadata": {},
     "source": [
      "## Problem 3\n",
      "Find the largest prime factor of the number 600851475143 "
     ]
    },
    {
     "cell_type": "code",
     "collapsed": false,
     "input": [
      "#prime number generator by trial division\n",
      "import datetime\n",
      "\n",
      "a = int(raw_input('Please insert the number up to which you want to find the prime numbers: ')) +1\n",
      "\n",
      "prime_numbers_up_to_a = [2]\n",
      "\n",
      "numbers_up_to_a = range(3,a)\n",
      "\n",
      "sqrt_a = int((a)**.5) + 1\n",
      "trial_list = range(2, sqrt_a)\n",
      "\n",
      "for c in numbers_up_to_a:\n",
      "    for z in prime_numbers_up_to_a:\n",
      "        if z > sqrt_a:\n",
      "            value = True\n",
      "            break\n",
      "        elif c == z:\n",
      "            value = True\n",
      "            break\n",
      "        elif c%z == 0:\n",
      "            value = False\n",
      "            smallest_number_module_zero = z\n",
      "            break\n",
      "        elif c%z>0:\n",
      "            value = True\n",
      "\n",
      "    if value == True:\n",
      "        prime_numbers_up_to_a.append(c)\n",
      "\n",
      "b = int(raw_input('Please insert the number of which you want to find the prime number: '))\n",
      "\n",
      "for i, primes in enumerate(prime_numbers_up_to_a):\n",
      "    if b%primes == 0:\n",
      "        compliant_prime_factors_for_b = primes\n",
      "    elif primes == prime_numbers_up_to_a[-1] and not compliant_prime_factors_for_b:\n",
      "        print 'There might be a higher prime factor out of the current prime number range'\n",
      "\n",
      "print (compliant_prime_factors_for_b)"
     ],
     "language": "python",
     "metadata": {},
     "outputs": [
      {
       "name": "stdout",
       "output_type": "stream",
       "stream": "stdout",
       "text": [
        "Please insert the number up to which you want to find the prime numbers: 1000000\n"
       ]
      },
      {
       "name": "stdout",
       "output_type": "stream",
       "stream": "stdout",
       "text": [
        "Please insert the number of which you want to find the prime number: 600851475143\n"
       ]
      },
      {
       "output_type": "stream",
       "stream": "stdout",
       "text": [
        "6857\n"
       ]
      }
     ],
     "prompt_number": 74
    },
    {
     "cell_type": "markdown",
     "metadata": {},
     "source": [
      "## Problem 4\n",
      "Find the largest palindrome number (a number that reads the same both ways, such as 99) which is a product of two three digit numbers."
     ]
    },
    {
     "cell_type": "code",
     "collapsed": false,
     "input": [
      "digit_numbers = range(100,999)\n",
      "\n",
      "palindrome_number = []\n",
      "\n",
      "for numbers in digit_numbers:\n",
      "    for numbers_2 in digit_numbers:\n",
      "        number_string = str(numbers*numbers_2)\n",
      "        if len(number_string)%2 == 0 and number_string[0] == number_string[-1] and number_string[1] == number_string[-2] and number_string[2] ==number_string[-3]:\n",
      "            palindrome_number.append(number_string)\n",
      "\n",
      "print max(palindrome_number)\n",
      "            \n",
      "            \n",
      "        "
     ],
     "language": "python",
     "metadata": {},
     "outputs": [
      {
       "output_type": "stream",
       "stream": "stdout",
       "text": [
        "906609\n"
       ]
      }
     ],
     "prompt_number": 29
    },
    {
     "cell_type": "code",
     "collapsed": false,
     "input": [],
     "language": "python",
     "metadata": {},
     "outputs": []
    }
   ],
   "metadata": {}
  }
 ]
}