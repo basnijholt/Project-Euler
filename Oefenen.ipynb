{
 "metadata": {
  "name": "",
  "signature": "sha256:1f4a31eb057b200d5368b9ceaef866609001e698f3c41f8d46434cf0eba5ee21"
 },
 "nbformat": 3,
 "nbformat_minor": 0,
 "worksheets": [
  {
   "cells": [
    {
     "cell_type": "code",
     "collapsed": false,
     "input": [
      "import datetime\n",
      "print 'There are \\'two\\' \"complex\" solutions'"
     ],
     "language": "python",
     "metadata": {},
     "outputs": [
      {
       "output_type": "stream",
       "stream": "stdout",
       "text": [
        "There are 'two' \"complex\" solutions\n"
       ]
      }
     ],
     "prompt_number": 1
    },
    {
     "cell_type": "code",
     "collapsed": false,
     "input": [
      "from __future__ import division\n",
      "a = int(raw_input('Enter constant a: '))\n",
      "b = int(raw_input('Enter constant b: '))\n",
      "c = int(raw_input('Enter constant c: '))\n",
      "D = int(b**2 - 4*a*c)\n",
      "solution_1 = -b + complex(D)**.5/(2*a)\n",
      "solution_2 = -b - complex(D)**.5/(2*a)\n",
      "\n",
      "if D<0:\n",
      "    print 'There are two complex solutions'\n",
      "    print \"solution 1 =\", solution_1\n",
      "    print \"solution 2 =\", solution_2\n",
      "    \n",
      "elif D==0:\n",
      "    print 'There is one single solution'\n",
      "    print \"the solution =\", solution_1.real\n",
      "    \n",
      "elif D>0:\n",
      "    'There are two real solutions'\n",
      "    print \"solution 1 =\", solution_1.real\n",
      "    print \"solution 2 =\", solution_2.real"
     ],
     "language": "python",
     "metadata": {},
     "outputs": []
    },
    {
     "cell_type": "code",
     "collapsed": false,
     "input": [
      "first = int(raw_input('Enter first number '))\n",
      "second = int(raw_input('Enter second number '))\n",
      "\n",
      "def maximum(first, second):\n",
      "    if first > second:\n",
      "        if first >= 10* second:\n",
      "            print 'The first number is much larger than the second number'\n",
      "        elif first >= 5* second:\n",
      "            print 'The first number is larger than the second number'\n",
      "        elif first >= 2*second:\n",
      "            print 'The first number is slightly larger than the second number'\n",
      "    elif first == second:\n",
      "        print 'The first number is equal to the second number'\n",
      "    else:\n",
      "        print 'The first number is smaller than than the second number'\n",
      "        \n",
      "maximum(first, second)"
     ],
     "language": "python",
     "metadata": {},
     "outputs": []
    },
    {
     "cell_type": "code",
     "collapsed": false,
     "input": [
      "a = 4\n",
      "\n",
      "#input('Which number would you like to check? ')\n",
      "\n",
      "numbers_up_to_a = list(xrange(a))\n",
      "numbers_up_to_a = numbers_up_to_a[2:]\n",
      "\n",
      "prime_numbers = [7,5,2]\n",
      "\n",
      "# isinstance(1, int) is hetzelfde\n",
      "def check(number):\n",
      "    if type(number) != int:\n",
      "        print 'Inserted variable is not an integer'\n",
      "    elif number==0:\n",
      "        print 'Number must be larger than zero'\n",
      "    else:\n",
      "        print number\n",
      "\n",
      "check(a)\n",
      "print numbers_up_to_a"
     ],
     "language": "python",
     "metadata": {},
     "outputs": [
      {
       "output_type": "stream",
       "stream": "stdout",
       "text": [
        "4\n",
        "[2, 3]\n"
       ]
      }
     ],
     "prompt_number": 18
    },
    {
     "cell_type": "code",
     "collapsed": false,
     "input": [
      "a = 4\n",
      "\n",
      "numbers_up_to_a = list(xrange(a))\n",
      "numbers_up_to_a = numbers_up_to_a[2:]\n",
      "print numbers_up_to_a"
     ],
     "language": "python",
     "metadata": {},
     "outputs": [
      {
       "output_type": "stream",
       "stream": "stdout",
       "text": [
        "[2, 3]\n"
       ]
      }
     ],
     "prompt_number": 1
    },
    {
     "cell_type": "code",
     "collapsed": false,
     "input": [
      "# dictionaries assign values to other values, these may be any types of data\n",
      "my_dict = {'one' : ['o','n','e'], 'two' : 2 , 'three' : 'three' }\n",
      "my_dict['one'].sort()\n",
      "my_dict['two'] = 9\n",
      "print my_dict['one'][2], my_dict['two']\n"
     ],
     "language": "python",
     "metadata": {},
     "outputs": []
    },
    {
     "cell_type": "markdown",
     "metadata": {},
     "source": [
      "##Prime number generators"
     ]
    },
    {
     "cell_type": "code",
     "collapsed": false,
     "input": [
      "# prime number generator by checking if the modulus is 0\n",
      "import datetime\n",
      "import sys\n",
      "\n",
      "a = int(raw_input('Please insert the number you wish to research: '))+1\n",
      "\n",
      "time_a = datetime.datetime.now() \n",
      "def check_int(number): #check if number is integer larger than zero\n",
      "    if number<=0:\n",
      "        print 'Number must be larger than zero.'\n",
      "        sys.exit()\n",
      "\n",
      "check_int(a)\n",
      "        \n",
      "numbers_up_to_a = range(2,a) #create list of numbers from 2 up to and including a\n",
      "\n",
      "value = []\n",
      "prime_numbers_up_to_a = [2]\n",
      "\n",
      "numbers_up_to_a = range(3,a)\n",
      "\n",
      "for c in numbers_up_to_a:\n",
      "    # time_check_c = datetime.datetime.now()\n",
      "    for x in prime_numbers_up_to_a:\n",
      "        if c == x:\n",
      "            value = True\n",
      "            # time_check_d = datetime.datetime.now()\n",
      "            break\n",
      "        elif c%x>0:\n",
      "            value = True\n",
      "            # time_check_d = datetime.datetime.now()\n",
      "        else:\n",
      "            value = False\n",
      "            smallest_number_module_zero = x\n",
      "            # time_check_d = datetime.datetime.now()\n",
      "            break\n",
      "            \n",
      "    if value == True:\n",
      "        prime_numbers_up_to_a.append(c)\n",
      "        # required_time = []\n",
      "        # required_time.append(time_d-time_c)\n",
      "\n",
      "number_of_prime_numbers_below_a = len(prime_numbers_up_to_a)\n",
      "#time_required_to_calculate_last_prime_number = (time_d-time_c)\n",
      "\n",
      "if value == True:\n",
      "    print a-1, 'is a prime number' \n",
      "else:\n",
      "    print a-1, 'is not a prime number'\n",
      "    print 'The smallest number with a modulo of 0 is', smallest_number_module_zero\n",
      "\n",
      "print 'There are', number_of_prime_numbers_below_a, 'prime numbers below', a\n",
      "    \n",
      "#left_print_boundary = int(raw_input('From which index do you want the list to start printing?: '))\n",
      "#right_print_boundary = int(raw_input('Up to which index do you want the list to print?: '))\n",
      "#left_right_prime_numbers_up_to_a = prime_numbers_up_to_a[left_print_boundary:right_print_boundary]\n",
      "\n",
      "#if left_print_boundary and right_print_boundary !=0:\n",
      "#    print 'The prime numbers with index', left_print_boundary, 'up to index', right_print_boundary, 'are', left_right_prime_numbers_up_to_a\n",
      "#print 'Amount of time required to calculate last prime number is', time_required_to_calculate_last_prime_number\n",
      "#print 'Difference between last two prime numbers', prime_numbers_up_to_a[-1], 'and', prime_numbers_up_to_a[-2], 'is', prime_numbers_up_to_a[-1] - prime_numbers_up_to_a[-2]\n",
      "time_b = datetime.datetime.now()\n",
      "total_time = (time_b-time_a)\n",
      "print 'The total time required for calculation is:',total_time,'[s]'"
     ],
     "language": "python",
     "metadata": {},
     "outputs": [
      {
       "name": "stdout",
       "output_type": "stream",
       "stream": "stdout",
       "text": [
        "Please insert the number you wish to research: 10000\n"
       ]
      },
      {
       "output_type": "stream",
       "stream": "stdout",
       "text": [
        "10000 is not a prime number\n",
        "The smallest number with a modulo of 0 is 2\n",
        "There are 1229 prime numbers below 10001\n",
        "The total time required for calculation is: 0:00:00.176947 [s]\n"
       ]
      }
     ],
     "prompt_number": 1
    },
    {
     "cell_type": "code",
     "collapsed": false,
     "input": [
      "#prime number generator by trial division\n",
      "import datetime\n",
      "\n",
      "a = int(raw_input('Please insert the number you wish to research: ')) +1\n",
      "\n",
      "time_a = datetime.datetime.now() \n",
      "def check_int(number): #check if number is integer larger than zero\n",
      "    if number<=0:\n",
      "        print 'Number must be larger than zero.'\n",
      "        sys.exit()\n",
      "\n",
      "check_int(a)\n",
      "\n",
      "prime_numbers_up_to_a = [2]\n",
      "\n",
      "numbers_up_to_a = range(3,a)\n",
      "\n",
      "sqrt_a = int((a)**.5) + 1\n",
      "trial_list = range(2, sqrt_a)\n",
      "\n",
      "for c in numbers_up_to_a:\n",
      "    for z in prime_numbers_up_to_a:\n",
      "        if z > sqrt_a:\n",
      "            value = True\n",
      "            break\n",
      "        elif c == z:\n",
      "            value = True\n",
      "            break\n",
      "        elif c%z == 0:\n",
      "            value = False\n",
      "            break\n",
      "        elif c%z>0:\n",
      "            value = True\n",
      "\n",
      "    if value == True:\n",
      "        prime_numbers_up_to_a.append(c)\n",
      "        \n",
      "\n",
      "number_of_prime_numbers_below_a = len(prime_numbers_up_to_a)\n",
      "\n",
      "if value == True:\n",
      "    print a-1, 'is a prime number' \n",
      "else:\n",
      "    print a-1, 'is not a prime number'\n",
      "    print 'The smallest number with a modulo of 0 is', smallest_number_module_zero\n",
      "\n",
      "print 'There are', number_of_prime_numbers_below_a, 'prime numbers below', a\n",
      "    \n",
      "\"\"\"left_print_boundary = int(raw_input('From which index do you want the list to start printing?: '))\n",
      "right_print_boundary = int(raw_input('Up to which index do you want the list to print?: '))\n",
      "left_right_prime_numbers_up_to_a = prime_numbers_up_to_a[left_print_boundary:right_print_boundary]\"\"\"\n",
      "\n",
      "if left_print_boundary and right_print_boundary !=0:\n",
      "    print 'The prime numbers with index', left_print_boundary, 'up to index', right_print_boundary, 'are', left_right_prime_numbers_up_to_a\n",
      "print 'Difference between last two prime numbers', prime_numbers_up_to_a[-1], 'and', prime_numbers_up_to_a[-2], 'is', prime_numbers_up_to_a[-1] - prime_numbers_up_to_a[-2]\n",
      "time_b = datetime.datetime.now()\n",
      "total_time = (time_b-time_a)\n",
      "print 'The total time required for calculation is:',total_time,'[s]'"
     ],
     "language": "python",
     "metadata": {},
     "outputs": [
      {
       "name": "stdout",
       "output_type": "stream",
       "stream": "stdout",
       "text": [
        "Please insert the number you wish to research: 1000000\n"
       ]
      },
      {
       "output_type": "stream",
       "stream": "stdout",
       "text": [
        "1000000 is not a prime number\n",
        "The smallest number with a modulo of 0 is 2\n",
        "There are 78498 prime numbers below 1000001\n",
        "Difference between last two prime numbers 999983 and 999979 is 4\n",
        "The total time required for calculation is: 0:00:17.049386 [s]\n"
       ]
      }
     ],
     "prompt_number": 131
    },
    {
     "cell_type": "code",
     "collapsed": false,
     "input": [
      "noprimes = [j for i in range(2, 8) for j in range(i*2, 50, i)]\n",
      "primes = [x for x in range(2, 50) if x not in noprimes]"
     ],
     "language": "python",
     "metadata": {},
     "outputs": []
    },
    {
     "cell_type": "code",
     "collapsed": false,
     "input": [
      "time_c = datetime.datetime.now() \n",
      "list_example = [0,1,2,3,4]\n",
      "print list_example[2:4]\n",
      "time_d = datetime.datetime.now() \n",
      "print time_c\n",
      "print time_d\n",
      "print (time_d-time_c)\n",
      "\n",
      "value = True\n",
      "required_time = [(time_d-time_c)]\n",
      "print required_time\n",
      "\n"
     ],
     "language": "python",
     "metadata": {},
     "outputs": [
      {
       "output_type": "stream",
       "stream": "stdout",
       "text": [
        "[2, 3]\n",
        "2015-02-09 15:43:47.678313\n",
        "2015-02-09 15:43:47.678599\n",
        "0:00:00.000286\n",
        "[datetime.timedelta(0, 0, 286)]\n"
       ]
      }
     ],
     "prompt_number": 33
    },
    {
     "cell_type": "code",
     "collapsed": false,
     "input": [
      "a = 24633577567976\n",
      "\n",
      "sqrt_a = int((a)**.5) + 1\n",
      "trial_divison_list = range(2, sqrt_a)\n",
      "for x in trial_divison_list:\n",
      "    if a == 2:\n",
      "        value = True\n",
      "        break\n",
      "    elif a%x>0:\n",
      "        value = True\n",
      "    else:\n",
      "        value = False\n",
      "        break\n",
      "        \n",
      "print value\n",
      "\n",
      "        \n"
     ],
     "language": "python",
     "metadata": {},
     "outputs": [
      {
       "output_type": "stream",
       "stream": "stdout",
       "text": [
        "False\n"
       ]
      }
     ],
     "prompt_number": 112
    },
    {
     "cell_type": "code",
     "collapsed": false,
     "input": [],
     "language": "python",
     "metadata": {},
     "outputs": []
    }
   ],
   "metadata": {}
  }
 ]
}